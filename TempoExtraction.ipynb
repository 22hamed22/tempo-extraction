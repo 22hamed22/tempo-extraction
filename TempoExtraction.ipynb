{
  "cells": [
    {
      "cell_type": "code",
      "execution_count": null,
      "metadata": {
        "colab": {
          "base_uri": "https://localhost:8080/"
        },
        "id": "xaT3UpGfBzsy",
        "outputId": "23d4dd1a-57b1-4190-e8d9-6df1fb0ca03c"
      },
      "outputs": [
        {
          "name": "stdout",
          "output_type": "stream",
          "text": [
            "Requirement already satisfied: librosa in /usr/local/lib/python3.10/dist-packages (0.10.2.post1)\n",
            "Requirement already satisfied: audioread>=2.1.9 in /usr/local/lib/python3.10/dist-packages (from librosa) (3.0.1)\n",
            "Requirement already satisfied: numpy!=1.22.0,!=1.22.1,!=1.22.2,>=1.20.3 in /usr/local/lib/python3.10/dist-packages (from librosa) (1.25.2)\n",
            "Requirement already satisfied: scipy>=1.2.0 in /usr/local/lib/python3.10/dist-packages (from librosa) (1.11.4)\n",
            "Requirement already satisfied: scikit-learn>=0.20.0 in /usr/local/lib/python3.10/dist-packages (from librosa) (1.2.2)\n",
            "Requirement already satisfied: joblib>=0.14 in /usr/local/lib/python3.10/dist-packages (from librosa) (1.4.2)\n",
            "Requirement already satisfied: decorator>=4.3.0 in /usr/local/lib/python3.10/dist-packages (from librosa) (4.4.2)\n",
            "Requirement already satisfied: numba>=0.51.0 in /usr/local/lib/python3.10/dist-packages (from librosa) (0.58.1)\n",
            "Requirement already satisfied: soundfile>=0.12.1 in /usr/local/lib/python3.10/dist-packages (from librosa) (0.12.1)\n",
            "Requirement already satisfied: pooch>=1.1 in /usr/local/lib/python3.10/dist-packages (from librosa) (1.8.2)\n",
            "Requirement already satisfied: soxr>=0.3.2 in /usr/local/lib/python3.10/dist-packages (from librosa) (0.3.7)\n",
            "Requirement already satisfied: typing-extensions>=4.1.1 in /usr/local/lib/python3.10/dist-packages (from librosa) (4.12.2)\n",
            "Requirement already satisfied: lazy-loader>=0.1 in /usr/local/lib/python3.10/dist-packages (from librosa) (0.4)\n",
            "Requirement already satisfied: msgpack>=1.0 in /usr/local/lib/python3.10/dist-packages (from librosa) (1.0.8)\n",
            "Requirement already satisfied: packaging in /usr/local/lib/python3.10/dist-packages (from lazy-loader>=0.1->librosa) (24.1)\n",
            "Requirement already satisfied: llvmlite<0.42,>=0.41.0dev0 in /usr/local/lib/python3.10/dist-packages (from numba>=0.51.0->librosa) (0.41.1)\n",
            "Requirement already satisfied: platformdirs>=2.5.0 in /usr/local/lib/python3.10/dist-packages (from pooch>=1.1->librosa) (4.2.2)\n",
            "Requirement already satisfied: requests>=2.19.0 in /usr/local/lib/python3.10/dist-packages (from pooch>=1.1->librosa) (2.31.0)\n",
            "Requirement already satisfied: threadpoolctl>=2.0.0 in /usr/local/lib/python3.10/dist-packages (from scikit-learn>=0.20.0->librosa) (3.5.0)\n",
            "Requirement already satisfied: cffi>=1.0 in /usr/local/lib/python3.10/dist-packages (from soundfile>=0.12.1->librosa) (1.16.0)\n",
            "Requirement already satisfied: pycparser in /usr/local/lib/python3.10/dist-packages (from cffi>=1.0->soundfile>=0.12.1->librosa) (2.22)\n",
            "Requirement already satisfied: charset-normalizer<4,>=2 in /usr/local/lib/python3.10/dist-packages (from requests>=2.19.0->pooch>=1.1->librosa) (3.3.2)\n",
            "Requirement already satisfied: idna<4,>=2.5 in /usr/local/lib/python3.10/dist-packages (from requests>=2.19.0->pooch>=1.1->librosa) (3.7)\n",
            "Requirement already satisfied: urllib3<3,>=1.21.1 in /usr/local/lib/python3.10/dist-packages (from requests>=2.19.0->pooch>=1.1->librosa) (2.0.7)\n",
            "Requirement already satisfied: certifi>=2017.4.17 in /usr/local/lib/python3.10/dist-packages (from requests>=2.19.0->pooch>=1.1->librosa) (2024.7.4)\n"
          ]
        }
      ],
      "source": [
        "! pip install librosa\n",
        "import librosa"
      ]
    },
    {
      "cell_type": "code",
      "execution_count": null,
      "metadata": {
        "id": "-ccJPU2W-qpj"
      },
      "outputs": [],
      "source": [
        "import numpy as np\n",
        "import matplotlib.pyplot as plt\n",
        "import matplotlib.animation as animation"
      ]
    },
    {
      "cell_type": "code",
      "execution_count": null,
      "metadata": {
        "colab": {
          "base_uri": "https://localhost:8080/"
        },
        "id": "EDHEqtkaARiD",
        "outputId": "8f25fd44-7c15-4947-f56e-9d041851f295"
      },
      "outputs": [
        {
          "name": "stdout",
          "output_type": "stream",
          "text": [
            "Waveform has been saved to fff.wav\n"
          ]
        }
      ],
      "source": [
        "\n",
        "import soundfile as sf\n",
        "\n",
        "# Load the MP3 file\n",
        "mp3_path = '/content/ReelAudio-13778.mp3'\n",
        "y, sr = librosa.load(mp3_path, sr=None)\n",
        "\n",
        "# Define the path for the output WAV file\n",
        "wav_path = 'fff.wav'\n",
        "# Save the waveform data to a WAV file\n",
        "sf.write(wav_path, y, sr)\n",
        "\n",
        "print(f'Waveform has been saved to {wav_path}')"
      ]
    },
    {
      "cell_type": "code",
      "execution_count": null,
      "metadata": {
        "colab": {
          "base_uri": "https://localhost:8080/"
        },
        "id": "-CKKeXB-CT_4",
        "outputId": "df4ffe2a-39a7-44f0-c43d-8f3d7a17930b"
      },
      "outputs": [
        {
          "name": "stdout",
          "output_type": "stream",
          "text": [
            "[135.99917763]\n"
          ]
        },
        {
          "data": {
            "text/plain": [
              "array([ 0.06965986,  0.44117914,  0.85913832,  1.32353741,  1.71827664,\n",
              "        2.11301587,  2.60063492,  3.06503401,  3.50621315,  3.94739229,\n",
              "        4.41179138,  4.82975057,  5.2244898 ,  5.64244898,  6.08362812,\n",
              "        6.54802721,  7.0124263 ,  7.45360544,  7.91800454,  8.38240363,\n",
              "        8.82358277,  9.2647619 ,  9.729161  , 10.19356009, 10.68117914,\n",
              "       11.16879819, 11.60997732, 12.00471655, 12.44589569, 12.86385488,\n",
              "       13.35147392, 13.81587302, 14.25705215, 14.7446712 , 15.23229025,\n",
              "       15.67346939, 16.13786848, 16.60226757, 17.04344671, 17.5078458 ,\n",
              "       17.94902494, 18.41342404, 18.85460317, 19.29578231, 19.73696145,\n",
              "       20.17814059, 20.59609977, 21.03727891, 21.47845805, 21.89641723,\n",
              "       22.38403628, 22.80199546, 23.21995465, 23.63791383, 24.05587302,\n",
              "       24.49705215, 24.93823129, 25.42585034, 25.91346939, 26.33142857,\n",
              "       26.77260771, 27.19056689, 27.63174603, 28.04970522, 28.4676644 ,\n",
              "       28.88562358, 29.30358277, 29.72154195, 30.13950113, 30.55746032,\n",
              "       30.9754195 , 31.41659864, 31.85777778, 32.32217687, 32.76335601,\n",
              "       33.20453515, 33.66893424, 34.11011338, 34.55129252, 34.9692517 ,\n",
              "       35.38721088, 35.82839002, 36.24634921, 36.68752834, 37.12870748,\n",
              "       37.56988662, 38.01106576, 38.4522449 , 38.89342404, 39.31138322,\n",
              "       39.7293424 , 40.17052154, 40.61170068, 41.02965986, 41.470839  ,\n",
              "       41.88879819, 42.32997732, 42.74793651, 43.2123356 , 43.65351474,\n",
              "       44.09469388, 44.53587302, 44.97705215, 45.37179138, 45.78975057,\n",
              "       46.20770975, 46.64888889, 47.09006803, 47.50802721, 47.94920635,\n",
              "       48.39038549, 48.80834467, 49.22630385, 49.64426304, 50.08544218,\n",
              "       50.52662132, 50.99102041, 51.4554195 , 51.87337868, 52.29133787,\n",
              "       52.73251701, 53.17369615, 53.59165533])"
            ]
          },
          "execution_count": 38,
          "metadata": {},
          "output_type": "execute_result"
        }
      ],
      "source": [
        "audio_file = librosa.load('fff.wav')\n",
        "y, sr = audio_file\n",
        "\n",
        "tempo, beat_frames = librosa.beat.beat_track(y=y, sr=sr)\n",
        "print(tempo)\n",
        "beat_times = librosa.frames_to_time(beat_frames, sr=sr)\n",
        "beat_times"
      ]
    }
  ],
  "metadata": {
    "colab": {
      "provenance": []
    },
    "kernelspec": {
      "display_name": "Python 3",
      "name": "python3"
    },
    "language_info": {
      "name": "python"
    }
  },
  "nbformat": 4,
  "nbformat_minor": 0
}
